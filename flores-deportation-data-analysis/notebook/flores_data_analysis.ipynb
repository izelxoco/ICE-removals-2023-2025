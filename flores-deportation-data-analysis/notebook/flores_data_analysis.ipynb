{
 "cells": [
  {
   "cell_type": "markdown",
   "id": "5017522b-a027-4f42-beea-b5214c392e85",
   "metadata": {},
   "source": [
    "    Analysis of ICE Removals from New York-Based Ports, September 2023 to July 2025\n",
    "\n",
    "    This notebook runs two analyses of Immigration and Custom's Enforcement (ICE) data on removals nationally and from NY-based ports.  "
   ]
  },
  {
   "cell_type": "code",
   "execution_count": 1,
   "id": "28fbe5f9-0220-4cea-9ad0-e4a12e655cfc",
   "metadata": {
    "scrolled": true
   },
   "outputs": [
    {
     "name": "stdout",
     "output_type": "stream",
     "text": [
      "Requirement already satisfied: openpyxl in /Users/gabrielaflores/Library/jupyterlab-desktop/jlab_server/lib/python3.12/site-packages (3.1.5)\n",
      "Requirement already satisfied: et-xmlfile in /Users/gabrielaflores/Library/jupyterlab-desktop/jlab_server/lib/python3.12/site-packages (from openpyxl) (2.0.0)\n"
     ]
    }
   ],
   "source": [
    "import pandas as pd\n",
    "!pip install openpyxl\n",
    "import matplotlib.pyplot as plt"
   ]
  },
  {
   "cell_type": "markdown",
   "id": "dd15bd74-f179-424e-a5a2-7f4ad84645cb",
   "metadata": {},
   "source": [
    "    In this section we open up relevant Excel sheets of raw data. "
   ]
  },
  {
   "cell_type": "code",
   "execution_count": 2,
   "id": "119c24b0-9b22-48b7-8cb4-9cd6c6654b86",
   "metadata": {},
   "outputs": [
    {
     "data": {
      "text/plain": [
       "0        2024-07-04\n",
       "1        2023-09-09\n",
       "2        2023-09-09\n",
       "3        2024-06-25\n",
       "4        2025-04-02\n",
       "            ...    \n",
       "528436   2025-07-23\n",
       "528437   2025-07-23\n",
       "528438   2025-07-23\n",
       "528439   2025-07-23\n",
       "528440   2025-07-28\n",
       "Name: departed_date, Length: 528441, dtype: datetime64[ns]"
      ]
     },
     "execution_count": 2,
     "metadata": {},
     "output_type": "execute_result"
    }
   ],
   "source": [
    "ERO_removals = pd.read_excel (\"../data/removals-latest.xlsx\")\n",
    "ERO_removals[\"departed_date\"].astype(\"datetime64[ns]\")"
   ]
  },
  {
   "cell_type": "markdown",
   "id": "5da7db97-0fa0-4af6-9866-47571bbf6449",
   "metadata": {},
   "source": [
    "    This section gathers more information about the uploaded data set from the Deportation Data Project, including:\n",
    "\n",
    "        - the kinds of data for each column.\n",
    "        - the number of rows in the ERO_removals dataframe.\n",
    "        - a display of the dataset's columns. "
   ]
  },
  {
   "cell_type": "code",
   "execution_count": 3,
   "id": "b55574ac-8b54-47bb-b812-d4e0d07b92b8",
   "metadata": {},
   "outputs": [
    {
     "data": {
      "text/plain": [
       "departed_date                         datetime64[ns]\n",
       "port_of_departure                             object\n",
       "departure_country                             object\n",
       "docket_aor                                    object\n",
       "apprehension_state                            object\n",
       "apprehension_county                           object\n",
       "case_status                                   object\n",
       "gender                                        object\n",
       "birth_country                                 object\n",
       "citizenship_country                           object\n",
       "birth_year                                   float64\n",
       "entry_date                                    object\n",
       "entry_status                                  object\n",
       "msc_ncic_charge                               object\n",
       "msc_ncic_charge_code                          object\n",
       "msc_charge_date                       datetime64[ns]\n",
       "msc_criminal_charge_status                    object\n",
       "msc_criminal_charge_status_code               object\n",
       "msc_conviction_date                   datetime64[ns]\n",
       "case_threat_level                            float64\n",
       "case_criminality                              object\n",
       "felon                                         object\n",
       "processing_disposition                        object\n",
       "case_category                                 object\n",
       "final_program                                 object\n",
       "final_program_code                            object\n",
       "case_category_time_of_arrest                  object\n",
       "latest_arrest_program_current                 object\n",
       "latest_arrest_program_current_code            object\n",
       "latest_person_apprehension_date       datetime64[ns]\n",
       "final_order_yes_no                            object\n",
       "final_order_date                      datetime64[ns]\n",
       "final_charge_code                             object\n",
       "final_charge_section_code                     object\n",
       "prior_deport_yes_no                           object\n",
       "latest_person_departed_date           datetime64[ns]\n",
       "unique_identifier                             object\n",
       "duplicate_likely                             float64\n",
       "file_original                                 object\n",
       "sheet_original                                object\n",
       "row_original                                   int64\n",
       "dtype: object"
      ]
     },
     "execution_count": 3,
     "metadata": {},
     "output_type": "execute_result"
    }
   ],
   "source": [
    "ERO_removals.dtypes"
   ]
  },
  {
   "cell_type": "code",
   "execution_count": 4,
   "id": "4b588568-ced3-4da3-9482-58b8559a5369",
   "metadata": {},
   "outputs": [
    {
     "name": "stdout",
     "output_type": "stream",
     "text": [
      "528441\n"
     ]
    }
   ],
   "source": [
    "print(len(ERO_removals))"
   ]
  },
  {
   "cell_type": "code",
   "execution_count": 5,
   "id": "81f196ec-8e94-4a98-a36c-f91113ac6309",
   "metadata": {
    "scrolled": true
   },
   "outputs": [
    {
     "data": {
      "text/html": [
       "<div>\n",
       "<style scoped>\n",
       "    .dataframe tbody tr th:only-of-type {\n",
       "        vertical-align: middle;\n",
       "    }\n",
       "\n",
       "    .dataframe tbody tr th {\n",
       "        vertical-align: top;\n",
       "    }\n",
       "\n",
       "    .dataframe thead th {\n",
       "        text-align: right;\n",
       "    }\n",
       "</style>\n",
       "<table border=\"1\" class=\"dataframe\">\n",
       "  <thead>\n",
       "    <tr style=\"text-align: right;\">\n",
       "      <th></th>\n",
       "      <th>departed_date</th>\n",
       "      <th>port_of_departure</th>\n",
       "      <th>departure_country</th>\n",
       "      <th>docket_aor</th>\n",
       "      <th>apprehension_state</th>\n",
       "      <th>apprehension_county</th>\n",
       "      <th>case_status</th>\n",
       "      <th>gender</th>\n",
       "      <th>birth_country</th>\n",
       "      <th>citizenship_country</th>\n",
       "      <th>...</th>\n",
       "      <th>final_order_date</th>\n",
       "      <th>final_charge_code</th>\n",
       "      <th>final_charge_section_code</th>\n",
       "      <th>prior_deport_yes_no</th>\n",
       "      <th>latest_person_departed_date</th>\n",
       "      <th>unique_identifier</th>\n",
       "      <th>duplicate_likely</th>\n",
       "      <th>file_original</th>\n",
       "      <th>sheet_original</th>\n",
       "      <th>row_original</th>\n",
       "    </tr>\n",
       "  </thead>\n",
       "  <tbody>\n",
       "    <tr>\n",
       "      <th>0</th>\n",
       "      <td>2024-07-04</td>\n",
       "      <td>NOGALES, AZ, POE</td>\n",
       "      <td>MEXICO</td>\n",
       "      <td>Phoenix Area of Responsibility</td>\n",
       "      <td>NaN</td>\n",
       "      <td>NaN</td>\n",
       "      <td>6-Deported/Removed - Deportability</td>\n",
       "      <td>Male</td>\n",
       "      <td>MEXICO</td>\n",
       "      <td>MEXICO</td>\n",
       "      <td>...</td>\n",
       "      <td>2024-06-06</td>\n",
       "      <td>I9C2</td>\n",
       "      <td>212a9CiII</td>\n",
       "      <td>YES</td>\n",
       "      <td>2024-07-04</td>\n",
       "      <td>000031423837d9b430050e9298882932f74ee3dd</td>\n",
       "      <td>0.0</td>\n",
       "      <td>2025-ICLI-00019_2024-ICFO-39357_ICE Removals_L...</td>\n",
       "      <td>Removals</td>\n",
       "      <td>8</td>\n",
       "    </tr>\n",
       "    <tr>\n",
       "      <th>1</th>\n",
       "      <td>2023-09-09</td>\n",
       "      <td>CALEXICO, CA, POE</td>\n",
       "      <td>MEXICO</td>\n",
       "      <td>San Diego Area of Responsibility</td>\n",
       "      <td>NaN</td>\n",
       "      <td>NaN</td>\n",
       "      <td>8-Excluded/Removed - Inadmissibility</td>\n",
       "      <td>Male</td>\n",
       "      <td>MEXICO</td>\n",
       "      <td>MEXICO</td>\n",
       "      <td>...</td>\n",
       "      <td>2023-09-09</td>\n",
       "      <td>I9C2</td>\n",
       "      <td>212a9CiII</td>\n",
       "      <td>YES</td>\n",
       "      <td>2023-09-09</td>\n",
       "      <td>00006f56f3c8f39d692c569970f65876830d5716</td>\n",
       "      <td>0.0</td>\n",
       "      <td>2025-ICLI-00019_2024-ICFO-39357_ICE Removals_L...</td>\n",
       "      <td>Removals</td>\n",
       "      <td>9</td>\n",
       "    </tr>\n",
       "    <tr>\n",
       "      <th>2</th>\n",
       "      <td>2023-09-09</td>\n",
       "      <td>NOGALES, AZ, POE</td>\n",
       "      <td>MEXICO</td>\n",
       "      <td>Phoenix Area of Responsibility</td>\n",
       "      <td>NaN</td>\n",
       "      <td>NaN</td>\n",
       "      <td>8-Excluded/Removed - Inadmissibility</td>\n",
       "      <td>Female</td>\n",
       "      <td>MEXICO</td>\n",
       "      <td>MEXICO</td>\n",
       "      <td>...</td>\n",
       "      <td>2023-08-23</td>\n",
       "      <td>I9C2</td>\n",
       "      <td>212a9CiII</td>\n",
       "      <td>YES</td>\n",
       "      <td>2023-09-09</td>\n",
       "      <td>00007be9691d4682465db5bd1a5a0cca4af9019c</td>\n",
       "      <td>0.0</td>\n",
       "      <td>2025-ICLI-00019_2024-ICFO-39357_ICE Removals_L...</td>\n",
       "      <td>Removals</td>\n",
       "      <td>10</td>\n",
       "    </tr>\n",
       "    <tr>\n",
       "      <th>3</th>\n",
       "      <td>2024-06-25</td>\n",
       "      <td>HARLINGEN, TX, POE</td>\n",
       "      <td>COLOMBIA</td>\n",
       "      <td>Harlingen Area of Responsibility</td>\n",
       "      <td>NaN</td>\n",
       "      <td>NaN</td>\n",
       "      <td>8-Excluded/Removed - Inadmissibility</td>\n",
       "      <td>Male</td>\n",
       "      <td>COLOMBIA</td>\n",
       "      <td>COLOMBIA</td>\n",
       "      <td>...</td>\n",
       "      <td>2024-06-14</td>\n",
       "      <td>I7A1</td>\n",
       "      <td>212a7AiI</td>\n",
       "      <td>NO</td>\n",
       "      <td>2024-06-25</td>\n",
       "      <td>0000cecbf0050979574b60e7d2f2fefdb2c8eb6c</td>\n",
       "      <td>0.0</td>\n",
       "      <td>2025-ICLI-00019_2024-ICFO-39357_ICE Removals_L...</td>\n",
       "      <td>Removals</td>\n",
       "      <td>11</td>\n",
       "    </tr>\n",
       "    <tr>\n",
       "      <th>4</th>\n",
       "      <td>2025-04-02</td>\n",
       "      <td>NOGALES, AZ, POE</td>\n",
       "      <td>MEXICO</td>\n",
       "      <td>Seattle Area of Responsibility</td>\n",
       "      <td>NaN</td>\n",
       "      <td>NaN</td>\n",
       "      <td>8-Excluded/Removed - Inadmissibility</td>\n",
       "      <td>Male</td>\n",
       "      <td>MEXICO</td>\n",
       "      <td>MEXICO</td>\n",
       "      <td>...</td>\n",
       "      <td>2025-03-25</td>\n",
       "      <td>I2A1</td>\n",
       "      <td>212a2AiI</td>\n",
       "      <td>NO</td>\n",
       "      <td>2025-04-02</td>\n",
       "      <td>0000ed58c34ee6f941918de40d86cb66759ad833</td>\n",
       "      <td>0.0</td>\n",
       "      <td>2025-ICLI-00019_2024-ICFO-39357_ICE Removals_L...</td>\n",
       "      <td>Removals</td>\n",
       "      <td>12</td>\n",
       "    </tr>\n",
       "  </tbody>\n",
       "</table>\n",
       "<p>5 rows × 41 columns</p>\n",
       "</div>"
      ],
      "text/plain": [
       "  departed_date   port_of_departure departure_country  \\\n",
       "0    2024-07-04    NOGALES, AZ, POE            MEXICO   \n",
       "1    2023-09-09   CALEXICO, CA, POE            MEXICO   \n",
       "2    2023-09-09    NOGALES, AZ, POE            MEXICO   \n",
       "3    2024-06-25  HARLINGEN, TX, POE          COLOMBIA   \n",
       "4    2025-04-02    NOGALES, AZ, POE            MEXICO   \n",
       "\n",
       "                         docket_aor apprehension_state apprehension_county  \\\n",
       "0    Phoenix Area of Responsibility                NaN                 NaN   \n",
       "1  San Diego Area of Responsibility                NaN                 NaN   \n",
       "2    Phoenix Area of Responsibility                NaN                 NaN   \n",
       "3  Harlingen Area of Responsibility                NaN                 NaN   \n",
       "4    Seattle Area of Responsibility                NaN                 NaN   \n",
       "\n",
       "                            case_status  gender birth_country  \\\n",
       "0    6-Deported/Removed - Deportability    Male        MEXICO   \n",
       "1  8-Excluded/Removed - Inadmissibility    Male        MEXICO   \n",
       "2  8-Excluded/Removed - Inadmissibility  Female        MEXICO   \n",
       "3  8-Excluded/Removed - Inadmissibility    Male      COLOMBIA   \n",
       "4  8-Excluded/Removed - Inadmissibility    Male        MEXICO   \n",
       "\n",
       "  citizenship_country  ...  final_order_date final_charge_code  \\\n",
       "0              MEXICO  ...        2024-06-06              I9C2   \n",
       "1              MEXICO  ...        2023-09-09              I9C2   \n",
       "2              MEXICO  ...        2023-08-23              I9C2   \n",
       "3            COLOMBIA  ...        2024-06-14              I7A1   \n",
       "4              MEXICO  ...        2025-03-25              I2A1   \n",
       "\n",
       "  final_charge_section_code prior_deport_yes_no latest_person_departed_date  \\\n",
       "0                 212a9CiII                 YES                  2024-07-04   \n",
       "1                 212a9CiII                 YES                  2023-09-09   \n",
       "2                 212a9CiII                 YES                  2023-09-09   \n",
       "3                  212a7AiI                  NO                  2024-06-25   \n",
       "4                  212a2AiI                  NO                  2025-04-02   \n",
       "\n",
       "                          unique_identifier duplicate_likely  \\\n",
       "0  000031423837d9b430050e9298882932f74ee3dd              0.0   \n",
       "1  00006f56f3c8f39d692c569970f65876830d5716              0.0   \n",
       "2  00007be9691d4682465db5bd1a5a0cca4af9019c              0.0   \n",
       "3  0000cecbf0050979574b60e7d2f2fefdb2c8eb6c              0.0   \n",
       "4  0000ed58c34ee6f941918de40d86cb66759ad833              0.0   \n",
       "\n",
       "                                       file_original sheet_original  \\\n",
       "0  2025-ICLI-00019_2024-ICFO-39357_ICE Removals_L...       Removals   \n",
       "1  2025-ICLI-00019_2024-ICFO-39357_ICE Removals_L...       Removals   \n",
       "2  2025-ICLI-00019_2024-ICFO-39357_ICE Removals_L...       Removals   \n",
       "3  2025-ICLI-00019_2024-ICFO-39357_ICE Removals_L...       Removals   \n",
       "4  2025-ICLI-00019_2024-ICFO-39357_ICE Removals_L...       Removals   \n",
       "\n",
       "   row_original  \n",
       "0             8  \n",
       "1             9  \n",
       "2            10  \n",
       "3            11  \n",
       "4            12  \n",
       "\n",
       "[5 rows x 41 columns]"
      ]
     },
     "execution_count": 5,
     "metadata": {},
     "output_type": "execute_result"
    }
   ],
   "source": [
    "ERO_removals.head()"
   ]
  },
  {
   "cell_type": "markdown",
   "id": "a769c33c-a32d-4c8a-9c57-37554081619b",
   "metadata": {},
   "source": [
    "    In this section, the dataframe, ERO_removals, is having its index reset to \"departed_date\") in order to:\n",
    "\n",
    "        - allow for the resampling function to count the number removals by month. \n",
    "        - plot the number of removals overtime by month. \n",
    "        "
   ]
  },
  {
   "cell_type": "code",
   "execution_count": 6,
   "id": "7f97334a-3828-4c44-be7a-252636c2996a",
   "metadata": {
    "scrolled": true
   },
   "outputs": [
    {
     "data": {
      "text/html": [
       "<div>\n",
       "<style scoped>\n",
       "    .dataframe tbody tr th:only-of-type {\n",
       "        vertical-align: middle;\n",
       "    }\n",
       "\n",
       "    .dataframe tbody tr th {\n",
       "        vertical-align: top;\n",
       "    }\n",
       "\n",
       "    .dataframe thead th {\n",
       "        text-align: right;\n",
       "    }\n",
       "</style>\n",
       "<table border=\"1\" class=\"dataframe\">\n",
       "  <thead>\n",
       "    <tr style=\"text-align: right;\">\n",
       "      <th></th>\n",
       "      <th>port_of_departure</th>\n",
       "      <th>departure_country</th>\n",
       "      <th>docket_aor</th>\n",
       "      <th>apprehension_state</th>\n",
       "      <th>apprehension_county</th>\n",
       "      <th>case_status</th>\n",
       "      <th>gender</th>\n",
       "      <th>birth_country</th>\n",
       "      <th>citizenship_country</th>\n",
       "      <th>birth_year</th>\n",
       "      <th>...</th>\n",
       "      <th>final_order_date</th>\n",
       "      <th>final_charge_code</th>\n",
       "      <th>final_charge_section_code</th>\n",
       "      <th>prior_deport_yes_no</th>\n",
       "      <th>latest_person_departed_date</th>\n",
       "      <th>unique_identifier</th>\n",
       "      <th>duplicate_likely</th>\n",
       "      <th>file_original</th>\n",
       "      <th>sheet_original</th>\n",
       "      <th>row_original</th>\n",
       "    </tr>\n",
       "    <tr>\n",
       "      <th>departed_date</th>\n",
       "      <th></th>\n",
       "      <th></th>\n",
       "      <th></th>\n",
       "      <th></th>\n",
       "      <th></th>\n",
       "      <th></th>\n",
       "      <th></th>\n",
       "      <th></th>\n",
       "      <th></th>\n",
       "      <th></th>\n",
       "      <th></th>\n",
       "      <th></th>\n",
       "      <th></th>\n",
       "      <th></th>\n",
       "      <th></th>\n",
       "      <th></th>\n",
       "      <th></th>\n",
       "      <th></th>\n",
       "      <th></th>\n",
       "      <th></th>\n",
       "      <th></th>\n",
       "    </tr>\n",
       "  </thead>\n",
       "  <tbody>\n",
       "    <tr>\n",
       "      <th>2024-07-04</th>\n",
       "      <td>NOGALES, AZ, POE</td>\n",
       "      <td>MEXICO</td>\n",
       "      <td>Phoenix Area of Responsibility</td>\n",
       "      <td>NaN</td>\n",
       "      <td>NaN</td>\n",
       "      <td>6-Deported/Removed - Deportability</td>\n",
       "      <td>Male</td>\n",
       "      <td>MEXICO</td>\n",
       "      <td>MEXICO</td>\n",
       "      <td>1991.0</td>\n",
       "      <td>...</td>\n",
       "      <td>2024-06-06</td>\n",
       "      <td>I9C2</td>\n",
       "      <td>212a9CiII</td>\n",
       "      <td>YES</td>\n",
       "      <td>2024-07-04</td>\n",
       "      <td>000031423837d9b430050e9298882932f74ee3dd</td>\n",
       "      <td>0.0</td>\n",
       "      <td>2025-ICLI-00019_2024-ICFO-39357_ICE Removals_L...</td>\n",
       "      <td>Removals</td>\n",
       "      <td>8</td>\n",
       "    </tr>\n",
       "    <tr>\n",
       "      <th>2023-09-09</th>\n",
       "      <td>CALEXICO, CA, POE</td>\n",
       "      <td>MEXICO</td>\n",
       "      <td>San Diego Area of Responsibility</td>\n",
       "      <td>NaN</td>\n",
       "      <td>NaN</td>\n",
       "      <td>8-Excluded/Removed - Inadmissibility</td>\n",
       "      <td>Male</td>\n",
       "      <td>MEXICO</td>\n",
       "      <td>MEXICO</td>\n",
       "      <td>1995.0</td>\n",
       "      <td>...</td>\n",
       "      <td>2023-09-09</td>\n",
       "      <td>I9C2</td>\n",
       "      <td>212a9CiII</td>\n",
       "      <td>YES</td>\n",
       "      <td>2023-09-09</td>\n",
       "      <td>00006f56f3c8f39d692c569970f65876830d5716</td>\n",
       "      <td>0.0</td>\n",
       "      <td>2025-ICLI-00019_2024-ICFO-39357_ICE Removals_L...</td>\n",
       "      <td>Removals</td>\n",
       "      <td>9</td>\n",
       "    </tr>\n",
       "    <tr>\n",
       "      <th>2023-09-09</th>\n",
       "      <td>NOGALES, AZ, POE</td>\n",
       "      <td>MEXICO</td>\n",
       "      <td>Phoenix Area of Responsibility</td>\n",
       "      <td>NaN</td>\n",
       "      <td>NaN</td>\n",
       "      <td>8-Excluded/Removed - Inadmissibility</td>\n",
       "      <td>Female</td>\n",
       "      <td>MEXICO</td>\n",
       "      <td>MEXICO</td>\n",
       "      <td>1993.0</td>\n",
       "      <td>...</td>\n",
       "      <td>2023-08-23</td>\n",
       "      <td>I9C2</td>\n",
       "      <td>212a9CiII</td>\n",
       "      <td>YES</td>\n",
       "      <td>2023-09-09</td>\n",
       "      <td>00007be9691d4682465db5bd1a5a0cca4af9019c</td>\n",
       "      <td>0.0</td>\n",
       "      <td>2025-ICLI-00019_2024-ICFO-39357_ICE Removals_L...</td>\n",
       "      <td>Removals</td>\n",
       "      <td>10</td>\n",
       "    </tr>\n",
       "    <tr>\n",
       "      <th>2024-06-25</th>\n",
       "      <td>HARLINGEN, TX, POE</td>\n",
       "      <td>COLOMBIA</td>\n",
       "      <td>Harlingen Area of Responsibility</td>\n",
       "      <td>NaN</td>\n",
       "      <td>NaN</td>\n",
       "      <td>8-Excluded/Removed - Inadmissibility</td>\n",
       "      <td>Male</td>\n",
       "      <td>COLOMBIA</td>\n",
       "      <td>COLOMBIA</td>\n",
       "      <td>2000.0</td>\n",
       "      <td>...</td>\n",
       "      <td>2024-06-14</td>\n",
       "      <td>I7A1</td>\n",
       "      <td>212a7AiI</td>\n",
       "      <td>NO</td>\n",
       "      <td>2024-06-25</td>\n",
       "      <td>0000cecbf0050979574b60e7d2f2fefdb2c8eb6c</td>\n",
       "      <td>0.0</td>\n",
       "      <td>2025-ICLI-00019_2024-ICFO-39357_ICE Removals_L...</td>\n",
       "      <td>Removals</td>\n",
       "      <td>11</td>\n",
       "    </tr>\n",
       "    <tr>\n",
       "      <th>2025-04-02</th>\n",
       "      <td>NOGALES, AZ, POE</td>\n",
       "      <td>MEXICO</td>\n",
       "      <td>Seattle Area of Responsibility</td>\n",
       "      <td>NaN</td>\n",
       "      <td>NaN</td>\n",
       "      <td>8-Excluded/Removed - Inadmissibility</td>\n",
       "      <td>Male</td>\n",
       "      <td>MEXICO</td>\n",
       "      <td>MEXICO</td>\n",
       "      <td>1980.0</td>\n",
       "      <td>...</td>\n",
       "      <td>2025-03-25</td>\n",
       "      <td>I2A1</td>\n",
       "      <td>212a2AiI</td>\n",
       "      <td>NO</td>\n",
       "      <td>2025-04-02</td>\n",
       "      <td>0000ed58c34ee6f941918de40d86cb66759ad833</td>\n",
       "      <td>0.0</td>\n",
       "      <td>2025-ICLI-00019_2024-ICFO-39357_ICE Removals_L...</td>\n",
       "      <td>Removals</td>\n",
       "      <td>12</td>\n",
       "    </tr>\n",
       "  </tbody>\n",
       "</table>\n",
       "<p>5 rows × 40 columns</p>\n",
       "</div>"
      ],
      "text/plain": [
       "                port_of_departure departure_country  \\\n",
       "departed_date                                         \n",
       "2024-07-04       NOGALES, AZ, POE            MEXICO   \n",
       "2023-09-09      CALEXICO, CA, POE            MEXICO   \n",
       "2023-09-09       NOGALES, AZ, POE            MEXICO   \n",
       "2024-06-25     HARLINGEN, TX, POE          COLOMBIA   \n",
       "2025-04-02       NOGALES, AZ, POE            MEXICO   \n",
       "\n",
       "                                     docket_aor apprehension_state  \\\n",
       "departed_date                                                        \n",
       "2024-07-04       Phoenix Area of Responsibility                NaN   \n",
       "2023-09-09     San Diego Area of Responsibility                NaN   \n",
       "2023-09-09       Phoenix Area of Responsibility                NaN   \n",
       "2024-06-25     Harlingen Area of Responsibility                NaN   \n",
       "2025-04-02       Seattle Area of Responsibility                NaN   \n",
       "\n",
       "              apprehension_county                           case_status  \\\n",
       "departed_date                                                             \n",
       "2024-07-04                    NaN    6-Deported/Removed - Deportability   \n",
       "2023-09-09                    NaN  8-Excluded/Removed - Inadmissibility   \n",
       "2023-09-09                    NaN  8-Excluded/Removed - Inadmissibility   \n",
       "2024-06-25                    NaN  8-Excluded/Removed - Inadmissibility   \n",
       "2025-04-02                    NaN  8-Excluded/Removed - Inadmissibility   \n",
       "\n",
       "               gender birth_country citizenship_country  birth_year  ...  \\\n",
       "departed_date                                                        ...   \n",
       "2024-07-04       Male        MEXICO              MEXICO      1991.0  ...   \n",
       "2023-09-09       Male        MEXICO              MEXICO      1995.0  ...   \n",
       "2023-09-09     Female        MEXICO              MEXICO      1993.0  ...   \n",
       "2024-06-25       Male      COLOMBIA            COLOMBIA      2000.0  ...   \n",
       "2025-04-02       Male        MEXICO              MEXICO      1980.0  ...   \n",
       "\n",
       "              final_order_date final_charge_code final_charge_section_code  \\\n",
       "departed_date                                                                \n",
       "2024-07-04          2024-06-06              I9C2                 212a9CiII   \n",
       "2023-09-09          2023-09-09              I9C2                 212a9CiII   \n",
       "2023-09-09          2023-08-23              I9C2                 212a9CiII   \n",
       "2024-06-25          2024-06-14              I7A1                  212a7AiI   \n",
       "2025-04-02          2025-03-25              I2A1                  212a2AiI   \n",
       "\n",
       "              prior_deport_yes_no latest_person_departed_date  \\\n",
       "departed_date                                                   \n",
       "2024-07-04                    YES                  2024-07-04   \n",
       "2023-09-09                    YES                  2023-09-09   \n",
       "2023-09-09                    YES                  2023-09-09   \n",
       "2024-06-25                     NO                  2024-06-25   \n",
       "2025-04-02                     NO                  2025-04-02   \n",
       "\n",
       "                                      unique_identifier duplicate_likely  \\\n",
       "departed_date                                                              \n",
       "2024-07-04     000031423837d9b430050e9298882932f74ee3dd              0.0   \n",
       "2023-09-09     00006f56f3c8f39d692c569970f65876830d5716              0.0   \n",
       "2023-09-09     00007be9691d4682465db5bd1a5a0cca4af9019c              0.0   \n",
       "2024-06-25     0000cecbf0050979574b60e7d2f2fefdb2c8eb6c              0.0   \n",
       "2025-04-02     0000ed58c34ee6f941918de40d86cb66759ad833              0.0   \n",
       "\n",
       "                                                   file_original  \\\n",
       "departed_date                                                      \n",
       "2024-07-04     2025-ICLI-00019_2024-ICFO-39357_ICE Removals_L...   \n",
       "2023-09-09     2025-ICLI-00019_2024-ICFO-39357_ICE Removals_L...   \n",
       "2023-09-09     2025-ICLI-00019_2024-ICFO-39357_ICE Removals_L...   \n",
       "2024-06-25     2025-ICLI-00019_2024-ICFO-39357_ICE Removals_L...   \n",
       "2025-04-02     2025-ICLI-00019_2024-ICFO-39357_ICE Removals_L...   \n",
       "\n",
       "               sheet_original row_original  \n",
       "departed_date                               \n",
       "2024-07-04           Removals            8  \n",
       "2023-09-09           Removals            9  \n",
       "2023-09-09           Removals           10  \n",
       "2024-06-25           Removals           11  \n",
       "2025-04-02           Removals           12  \n",
       "\n",
       "[5 rows x 40 columns]"
      ]
     },
     "execution_count": 6,
     "metadata": {},
     "output_type": "execute_result"
    }
   ],
   "source": [
    "removals_over_time = ERO_removals.set_index(\"departed_date\")\n",
    "removals_over_time.head()"
   ]
  },
  {
   "cell_type": "code",
   "execution_count": 7,
   "id": "779500e7-fe53-45f5-b92c-49d6668a1c79",
   "metadata": {
    "scrolled": true
   },
   "outputs": [
    {
     "name": "stderr",
     "output_type": "stream",
     "text": [
      "/var/folders/t5/r7v_hk_s3fbblknzpgjrfjzr0000gn/T/ipykernel_35510/325554082.py:1: FutureWarning: 'M' is deprecated and will be removed in a future version, please use 'ME' instead.\n",
      "  removals_monthly_tally = removals_over_time.resample('M')[\"unique_identifier\"].count()\n"
     ]
    },
    {
     "data": {
      "text/plain": [
       "departed_date\n",
       "2023-09-30    19673\n",
       "2023-10-31    20038\n",
       "2023-11-30    22388\n",
       "2023-12-31    21029\n",
       "2024-01-31    22404\n",
       "2024-02-29    22735\n",
       "2024-03-31    23740\n",
       "2024-04-30    23414\n",
       "2024-05-31    25702\n",
       "2024-06-30    24746\n",
       "2024-07-31    26994\n",
       "2024-08-31    25592\n",
       "2024-09-30    22924\n",
       "2024-10-31    24919\n",
       "2024-11-30    22090\n",
       "2024-12-31    21593\n",
       "2025-01-31    19686\n",
       "2025-02-28    18957\n",
       "2025-03-31    20638\n",
       "2025-04-30    20589\n",
       "2025-05-31    26517\n",
       "2025-06-30    27830\n",
       "2025-07-31    23148\n",
       "Freq: ME, Name: unique_identifier, dtype: int64"
      ]
     },
     "execution_count": 7,
     "metadata": {},
     "output_type": "execute_result"
    }
   ],
   "source": [
    "removals_monthly_tally = removals_over_time.resample('M')[\"unique_identifier\"].count()\n",
    "removals_monthly_tally"
   ]
  },
  {
   "cell_type": "code",
   "execution_count": 8,
   "id": "622dae3d-146b-4742-945d-a17ef6c5147d",
   "metadata": {},
   "outputs": [
    {
     "data": {
      "image/png": "[encoded data removed]",
      "text/plain": [
       "<Figure size 900x600 with 1 Axes>"
      ]
     },
     "metadata": {},
     "output_type": "display_data"
    }
   ],
   "source": [
    "fig, ax = plt.subplots()\n",
    "fig.set_size_inches(9,6)\n",
    "ax.plot(removals_monthly_tally)\n",
    "ax.set_xlabel(\"departed_date\", fontsize=14)\n",
    "ax.set_ylabel(\"removals\", fontsize=14)\n",
    "ax.set_title('Total Number of ICE Removals, 2023-2025', fontsize=14)\n",
    "plt.savefig('../output/removals_monthly_chart.png')"
   ]
  },
  {
   "cell_type": "markdown",
   "id": "08838ea5-6619-4b7d-a91c-f061324fffc9",
   "metadata": {},
   "source": [
    "    Here begins the second data analysis. In this section, the removals_over_time_NY dataframe, is considering how whether or not \"NY\" or \"NYC\" is in the \"port_of_departure\" column. If the column does indicate \"NY\" or \"NYC\" it will be listed as \"True.\" This will be produce a boolean dataset. "
   ]
  },
  {
   "cell_type": "code",
   "execution_count": 9,
   "id": "2ef976a6-8d7d-4d6e-8c44-b6559cb6ad11",
   "metadata": {
    "scrolled": true
   },
   "outputs": [
    {
     "data": {
      "text/plain": [
       "departed_date\n",
       "2024-07-04    False\n",
       "2023-09-09    False\n",
       "2023-09-09    False\n",
       "2024-06-25    False\n",
       "2025-04-02    False\n",
       "Name: port_of_departure, dtype: bool"
      ]
     },
     "execution_count": 9,
     "metadata": {},
     "output_type": "execute_result"
    }
   ],
   "source": [
    "removals_over_time_NY = removals_over_time[\"port_of_departure\"].str.contains(\"NY\" or \"NYC\")\n",
    "removals_over_time_NY.head()"
   ]
  },
  {
   "cell_type": "markdown",
   "id": "2712433e-cf9b-4b51-95f8-fb2b8a89dd81",
   "metadata": {},
   "source": [
    "    In this section two seperate dataframes, one that contains departure dates were removals occured from a NY-based port, and another dataframe where removals did not occur from a NY-based port.  \n",
    "        "
   ]
  },
  {
   "cell_type": "code",
   "execution_count": 10,
   "id": "00798d62-eb6b-4466-9b53-06b39fc410d2",
   "metadata": {},
   "outputs": [],
   "source": [
    "removals_NY_true = removals_over_time_NY[removals_over_time_NY == True]\n",
    "removals_NY_false = removals_over_time_NY[removals_over_time_NY == False]"
   ]
  },
  {
   "cell_type": "markdown",
   "id": "9790c95b-b7e4-49aa-84f0-e50284c6e0bc",
   "metadata": {},
   "source": [
    "    Using the len function, each dataframe's rows were counted to find the total and confirm all removals from the original \"ERO_removals\" dataset were accounted for. "
   ]
  },
  {
   "cell_type": "code",
   "execution_count": 11,
   "id": "e4bcdc1d-b36e-413f-9036-f6fe2b732a65",
   "metadata": {},
   "outputs": [
    {
     "name": "stdout",
     "output_type": "stream",
     "text": [
      "8710\n"
     ]
    }
   ],
   "source": [
    "print(len(removals_NY_true))"
   ]
  },
  {
   "cell_type": "code",
   "execution_count": 12,
   "id": "f9f31670-b13b-4315-95ee-78f48e489fb9",
   "metadata": {},
   "outputs": [
    {
     "name": "stdout",
     "output_type": "stream",
     "text": [
      "519731\n"
     ]
    }
   ],
   "source": [
    "print(len(removals_NY_false))"
   ]
  },
  {
   "cell_type": "markdown",
   "id": "24d57e9a-3119-4dd5-a438-8e08dd1847af",
   "metadata": {},
   "source": [
    "    Here the total number of removals from NY-based ports were tallied by month to:\n",
    "    \n",
    "    - find which dates had the least and most removals from NY-based ports. \n",
    "    - illustrate in a line graph the removals from NY-based ports overtime. "
   ]
  },
  {
   "cell_type": "code",
   "execution_count": 13,
   "id": "a397c8fd-f5e7-4156-baa2-9ddcce447194",
   "metadata": {
    "scrolled": true
   },
   "outputs": [
    {
     "name": "stderr",
     "output_type": "stream",
     "text": [
      "/var/folders/t5/r7v_hk_s3fbblknzpgjrfjzr0000gn/T/ipykernel_35510/65337380.py:1: FutureWarning: 'M' is deprecated and will be removed in a future version, please use 'ME' instead.\n",
      "  removals_NY_true_tally = removals_NY_true.resample('M').count()\n"
     ]
    },
    {
     "data": {
      "text/plain": [
       "departed_date\n",
       "2023-09-30    173\n",
       "2023-10-31    267\n",
       "2023-11-30    212\n",
       "2023-12-31    235\n",
       "2024-01-31    275\n",
       "2024-02-29    276\n",
       "2024-03-31    309\n",
       "2024-04-30    284\n",
       "2024-05-31    305\n",
       "2024-06-30    298\n",
       "2024-07-31    304\n",
       "2024-08-31    344\n",
       "2024-09-30    437\n",
       "2024-10-31    477\n",
       "2024-11-30    358\n",
       "2024-12-31    375\n",
       "2025-01-31    546\n",
       "2025-02-28    509\n",
       "2025-03-31    635\n",
       "2025-04-30    727\n",
       "2025-05-31    549\n",
       "2025-06-30    385\n",
       "2025-07-31    430\n",
       "Freq: ME, Name: port_of_departure, dtype: int64"
      ]
     },
     "execution_count": 13,
     "metadata": {},
     "output_type": "execute_result"
    }
   ],
   "source": [
    "removals_NY_true_tally = removals_NY_true.resample('M').count()\n",
    "removals_NY_true_tally"
   ]
  },
  {
   "cell_type": "code",
   "execution_count": 14,
   "id": "b17d9430-4c46-45a3-a171-e406ac1fabff",
   "metadata": {
    "scrolled": true
   },
   "outputs": [
    {
     "data": {
      "text/plain": [
       "count     23.000000\n",
       "mean     378.695652\n",
       "std      140.491163\n",
       "min      173.000000\n",
       "25%      280.000000\n",
       "50%      344.000000\n",
       "75%      457.000000\n",
       "max      727.000000\n",
       "Name: port_of_departure, dtype: float64"
      ]
     },
     "execution_count": 14,
     "metadata": {},
     "output_type": "execute_result"
    }
   ],
   "source": [
    "removals_NY_true_tally.describe()"
   ]
  },
  {
   "cell_type": "code",
   "execution_count": 15,
   "id": "933413ca-a4e9-4424-9193-d0003d2fa14d",
   "metadata": {},
   "outputs": [
    {
     "data": {
      "image/png": "[encoded data removed]",
      "text/plain": [
       "<Figure size 900x600 with 1 Axes>"
      ]
     },
     "metadata": {},
     "output_type": "display_data"
    }
   ],
   "source": [
    "fig, ax = plt.subplots()\n",
    "fig.set_size_inches(9,6)\n",
    "ax.plot(removals_NY_true_tally)\n",
    "ax.set_xlabel(\"departed_date\", fontsize=14)\n",
    "ax.set_ylabel(\"number_of_removals\", fontsize=14)\n",
    "ax.set_title('Total Number of ICE Removals from NY-Based Port, 2023-2025', fontsize=14)\n",
    "plt.savefig('../output/removals_ny_monthly_chart.png')"
   ]
  }
 ],
 "metadata": {
  "kernelspec": {
   "display_name": "Python 3 (ipykernel)",
   "language": "python",
   "name": "python3"
  },
  "language_info": {
   "codemirror_mode": {
    "name": "ipython",
    "version": 3
   },
   "file_extension": ".py",
   "mimetype": "text/x-python",
   "name": "python",
   "nbconvert_exporter": "python",
   "pygments_lexer": "ipython3",
   "version": "3.12.5"
  }
 },
 "nbformat": 4,
 "nbformat_minor": 5
}
